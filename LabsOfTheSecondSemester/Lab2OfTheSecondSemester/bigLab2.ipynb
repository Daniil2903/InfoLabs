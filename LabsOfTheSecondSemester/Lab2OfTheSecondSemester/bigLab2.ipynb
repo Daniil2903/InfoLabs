{
 "cells": [
  {
   "cell_type": "code",
   "execution_count": 2,
   "id": "8008e582-287f-420d-a556-42784f6f9759",
   "metadata": {},
   "outputs": [
    {
     "data": {
      "image/png": "[encoded data removed]",
      "text/plain": [
       "<Figure size 640x480 with 1 Axes>"
      ]
     },
     "metadata": {},
     "output_type": "display_data"
    }
   ],
   "source": [
    "import matplotlib.pyplot as plt\n",
    "import numpy as np\n",
    "\n",
    "sp = [[1,2],[3,2],[2,2],[7,3],[8,4],[3,6],[7,1],[10,1],[9,6]]\n",
    "x1 = [1,3,2,7,8,3,7,10,9]\n",
    "y1 = [2,2,2,3,4,6,1,1,8]\n",
    "fig, ax = plt.subplots()\n",
    "ax.scatter(x1, y1)\n",
    "plt.show()\n"
   ]
  },
  {
   "cell_type": "code",
   "execution_count": 7,
   "id": "feac69aa-7345-497d-bd86-f3802d1aad33",
   "metadata": {},
   "outputs": [
    {
     "name": "stdout",
     "output_type": "stream",
     "text": [
      "[1, 1, 1, 2, 2, 1, 2, 2, 2]\n"
     ]
    }
   ],
   "source": [
    "k = 2\n",
    "xc1 = 2\n",
    "yc1 = 4\n",
    "xc2 = 8\n",
    "yc2 = 3\n",
    "dist1 = []\n",
    "dist2 = []\n",
    "for i in range(9):\n",
    "    dist1.append((((x1[i] - xc1 )**2 + (y1[i] - yc1)**2))**0.5)\n",
    "    dist2.append((((x1[i] - xc2 )**2 + (y1[i] - yc2)**2))**0.5)\n",
    "metka = []\n",
    "for j in range(9):\n",
    "    if dist1[j] > dist2[j]:\n",
    "        metka.append(2)\n",
    "    else:\n",
    "        metka.append(1)\n",
    "nclass1 = metka.count(1)\n",
    "nclass2 = metka.count(2)\n",
    "sredx1 = 0\n",
    "sredy1 = 0\n",
    "sredx2 = 0\n",
    "sredy2 = 0\n",
    "for k in range(nclass1):\n",
    "    if metka[k] == 1\n",
    "        sredx1 = sredx1 + x1[k]\n",
    "        sredy1 = sredy1 + y1[k]\n",
    "    else:\n",
    "        sredx2 = sredx2 + x1[k]\n",
    "        sredy2 = sredy2 + y1[k]\n",
    "sredx1 = sredx1 / nclass1\n",
    "sredy1 = sredy1 / nclass1\n",
    "sredx2 = sredx2 / nclass2\n",
    "sredy2 = sredy2 / nclass2      \n",
    "cn1 = [sredx1,sredy1]\n",
    "cn2 = [sredx2,sredy2]\n",
    "for j in range(9):\n",
    "    dist"
   ]
  },
  {
   "cell_type": "code",
   "execution_count": null,
   "id": "6ce34f2b-979a-4037-a04d-9edf4b755359",
   "metadata": {},
   "outputs": [],
   "source": []
  },
  {
   "cell_type": "code",
   "execution_count": null,
   "id": "c2afa620-6529-4d0b-ba21-ea01a88a3bbd",
   "metadata": {},
   "outputs": [],
   "source": []
  }
 ],
 "metadata": {
  "kernelspec": {
   "display_name": "Python 3 (ipykernel)",
   "language": "python",
   "name": "python3"
  },
  "language_info": {
   "codemirror_mode": {
    "name": "ipython",
    "version": 3
   },
   "file_extension": ".py",
   "mimetype": "text/x-python",
   "name": "python",
   "nbconvert_exporter": "python",
   "pygments_lexer": "ipython3",
   "version": "3.12.7"
  }
 },
 "nbformat": 4,
 "nbformat_minor": 5
}
