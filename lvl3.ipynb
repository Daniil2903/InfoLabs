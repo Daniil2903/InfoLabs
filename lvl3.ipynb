#task 3
{
 "cells": [
  {
   "cell_type": "code",
   "execution_count": 22,
   "id": "5aec47dc-0d30-4dca-81c2-30e7440edbdd",
   "metadata": {},
   "outputs": [
    {
     "name": "stdout",
     "output_type": "stream",
     "text": [
      "2.0 2.61\n",
      "3.48 2.32\n",
      "4.57 1.93\n",
      "5.55 1.51\n",
      "6.54 1.14\n",
      "7.54 0.86\n"
     ]
    }
   ],
   "source": [
    "import math\n",
    "a=float(0.1)\n",
    "b=float(1.1)\n",
    "h=float(0.1)\n",
    "z=0\n",
    "i=0\n",
    "y=0\n",
    "g=0\n",
    "while a<=b:\n",
    "    s=1+(math.cos(i*a))/math.factorial(i+1)\n",
    "    i+=1\n",
    "    a+=h\n",
    "    if s>0.00001:\n",
    "        z=z+s\n",
    "    y=math.cos(math.sin(a))*math.exp(1)**math.cos(a)\n",
    "    a+=h\n",
    "    print(round(z, 2), round(y, 2))\n",
    "\n",
    "\n",
    "\n"
   ]
  },
  {
   "cell_type": "code",
   "execution_count": null,
   "id": "46cbd55f-34f4-4683-9001-0dd7cd75a497",
   "metadata": {},
   "outputs": [],
   "source": []
  }
 ],
 "metadata": {
  "kernelspec": {
   "display_name": "Python 3 (ipykernel)",
   "language": "python",
   "name": "python3"
  },
  "language_info": {
   "codemirror_mode": {
    "name": "ipython",
    "version": 3
   },
   "file_extension": ".py",
   "mimetype": "text/x-python",
   "name": "python",
   "nbconvert_exporter": "python",
   "pygments_lexer": "ipython3",
   "version": "3.12.4"
  }
 },
 "nbformat": 4,
 "nbformat_minor": 5
}
